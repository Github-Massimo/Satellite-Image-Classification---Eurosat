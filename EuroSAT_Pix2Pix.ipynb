{
  "cells": [
    {
      "cell_type": "markdown",
      "metadata": {
        "id": "view-in-github",
        "colab_type": "text"
      },
      "source": [
        "<a href=\"https://colab.research.google.com/github/DomBBB/MLHSG/blob/main/EuroSAT_Pix2Pix.ipynb\" target=\"_parent\"><img src=\"https://colab.research.google.com/assets/colab-badge.svg\" alt=\"Open In Colab\"/></a>"
      ]
    },
    {
      "cell_type": "markdown",
      "metadata": {
        "id": "ePSmPT3NCvsI"
      },
      "source": [
        "# EuroSAT Challenge: Model"
      ]
    },
    {
      "cell_type": "markdown",
      "source": [
        "Uses a Google Colab (T4 GPU) Runtime with extended RAM!"
      ],
      "metadata": {
        "id": "fK9vKzCMjePq"
      }
    },
    {
      "cell_type": "markdown",
      "source": [
        "## Mount the drive to store data permanently"
      ],
      "metadata": {
        "id": "NM-byDjTbzeJ"
      }
    },
    {
      "cell_type": "code",
      "source": [
        "from google.colab import drive\n",
        "import os\n",
        "\n",
        "drive.mount(\"/content/drive\")\n",
        "os.chdir(\"/content/drive/MyDrive/MLHSG/\")"
      ],
      "metadata": {
        "id": "GPt0BXpSJruf",
        "colab": {
          "base_uri": "https://localhost:8080/"
        },
        "outputId": "49d3a936-0d8c-4559-854f-56f0e5f84ddb"
      },
      "execution_count": 1,
      "outputs": [
        {
          "output_type": "stream",
          "name": "stdout",
          "text": [
            "Mounted at /content/drive\n"
          ]
        }
      ]
    },
    {
      "cell_type": "markdown",
      "metadata": {
        "id": "NGwIRCU00JfE"
      },
      "source": [
        "## Load data into current runtime"
      ]
    },
    {
      "cell_type": "code",
      "execution_count": 2,
      "metadata": {
        "colab": {
          "base_uri": "https://localhost:8080/"
        },
        "id": "IMS8HH_Zx2Pn",
        "outputId": "4ed2b6c3-ca16-4a72-cfe8-f032eea3f3f7"
      },
      "outputs": [
        {
          "output_type": "stream",
          "name": "stdout",
          "text": [
            "Data loaded locally.\n"
          ]
        }
      ],
      "source": [
        "if not os.path.exists(os.path.expanduser(\"~/trainingdataMS\")):\n",
        "    os.makedirs(os.path.expanduser(\"~/trainingdataMS\"))\n",
        "    !cp dataMS/EuroSAT_MS.zip ~/trainingdataMS/EuroSAT_MS.zip\n",
        "    !unzip -q ~/trainingdataMS/EuroSAT_MS.zip -d ~/trainingdataMS\n",
        "print(\"Data loaded locally.\")"
      ]
    },
    {
      "cell_type": "code",
      "source": [
        "if not os.path.exists(os.path.expanduser(\"~/aiml-coding-challenge-fs24.zip\")):\n",
        "    !cp test/aiml-coding-challenge-fs24.zip ~/aiml-coding-challenge-fs24.zip\n",
        "    !unzip -q ~/aiml-coding-challenge-fs24.zip -d ~/\n",
        "    !mv ~/train.csv ~/trainingdataMS/EuroSAT_MS/train.csv\n",
        "    !rm ~/sample_submission.csv\n",
        "    !rm ~/test.csv\n",
        "print(\"Data loaded locally.\")"
      ],
      "metadata": {
        "colab": {
          "base_uri": "https://localhost:8080/"
        },
        "id": "AxwfPbzRWAIx",
        "outputId": "03c6a2a2-8f7c-42cf-ba20-b82ab998ef0d"
      },
      "execution_count": 15,
      "outputs": [
        {
          "output_type": "stream",
          "name": "stdout",
          "text": [
            "mv: cannot move '/root/train.csv' to '/root/trainingdataMS/EuroSAT_MS/train.csv': No such file or directory\n",
            "Data loaded locally.\n"
          ]
        }
      ]
    },
    {
      "cell_type": "code",
      "source": [
        "if not os.path.exists(os.path.expanduser(\"~/dataMajTOM\")):\n",
        "    os.makedirs(os.path.expanduser(\"~/dataMajTOM\"))\n",
        "    os.makedirs(os.path.expanduser(\"~/dataMajTOM/train\"))\n",
        "    os.makedirs(os.path.expanduser(\"~/dataMajTOM/train_full\"))\n",
        "    os.makedirs(os.path.expanduser(\"~/dataMajTOM/test\"))\n",
        "    for zip_file in sorted(os.listdir(\"dataMajTOM\")):\n",
        "      print(f\"Extracting {zip_file}\")\n",
        "      if zip_file.startswith(\"MajTOM_train\"):\n",
        "        !mkdir -p ~/temp_extract\n",
        "        !cp dataMajTOM/{zip_file} ~/temp_extract/{zip_file}\n",
        "        !unzip -q ~/temp_extract/{zip_file} -d ~/temp_extract\n",
        "        # need to handle> /usr/bin/mv: Argument list too long\n",
        "        !find ~/temp_extract/root/MajTOM/train/ -type f -exec mv {} ~/dataMajTOM/train_full/ \\;\n",
        "        !rm -r ~/temp_extract\n",
        "      elif zip_file.startswith(\"MajTOM_test\"):\n",
        "        !mkdir -p ~/temp_extract\n",
        "        !cp dataMajTOM/{zip_file} ~/temp_extract/{zip_file}\n",
        "        !unzip -q ~/temp_extract/{zip_file} -d ~/temp_extract\n",
        "        !mv ~/temp_extract/root/MajTOM/test/* ~/dataMajTOM/test\n",
        "        !rm -r ~/temp_extract\n",
        "      else:\n",
        "        raise Error\n",
        "\n",
        "print(\"Data loaded locally.\")"
      ],
      "metadata": {
        "colab": {
          "base_uri": "https://localhost:8080/"
        },
        "id": "Ru7SypKD0Umo",
        "outputId": "b5105a66-f330-4a3d-b8aa-0f0b666198b2"
      },
      "execution_count": null,
      "outputs": [
        {
          "output_type": "stream",
          "name": "stdout",
          "text": [
            "Extracting MajTOM_test_0.zip\n",
            "Extracting MajTOM_test_1.zip\n",
            "Extracting MajTOM_test_2.zip\n",
            "Extracting MajTOM_test_3.zip\n",
            "Extracting MajTOM_test_4.zip\n",
            "Extracting MajTOM_test_5.zip\n",
            "Extracting MajTOM_test_6.zip\n",
            "Extracting MajTOM_test_7.zip\n",
            "Extracting MajTOM_train_0.zip\n",
            "Extracting MajTOM_train_1.zip\n",
            "Extracting MajTOM_train_2.zip\n",
            "Extracting MajTOM_train_3.zip\n",
            "Extracting MajTOM_train_4.zip\n",
            "Extracting MajTOM_train_5.zip\n",
            "Extracting MajTOM_train_6.zip\n",
            "Extracting MajTOM_train_7.zip\n",
            "Data loaded locally.\n"
          ]
        }
      ]
    },
    {
      "cell_type": "code",
      "source": [
        "if not os.path.exists(os.path.expanduser(\"~/dataAB\")):\n",
        "    os.makedirs(os.path.expanduser(\"~/dataAB\"))\n",
        "    os.makedirs(os.path.expanduser(\"~/dataAB/train_transformed/test\"))\n",
        "    os.makedirs(os.path.expanduser(\"~/dataAB/test_transformed/test\"))\n",
        "\n",
        "    !mkdir -p ~/temp_extract\n",
        "    !cp dataAB/DataAB_train.zip ~/temp_extract/DataAB_train.zip\n",
        "    !unzip -q ~/temp_extract/DataAB_train.zip -d ~/temp_extract\n",
        "    !mv ~/temp_extract/root/dataAB/train_transformed/* ~/dataAB/train_transformed/test\n",
        "    !rm -r ~/temp_extract\n",
        "\n",
        "    !mkdir -p ~/temp_extract\n",
        "    !cp dataAB/DataAB_test.zip ~/temp_extract/DataAB_test.zip\n",
        "    !unzip -q ~/temp_extract/DataAB_test.zip -d ~/temp_extract\n",
        "    !mv ~/temp_extract/root/dataAB/test_transformed/* ~/dataAB/test_transformed/test\n",
        "    !rm -r ~/temp_extract\n",
        "\n",
        "print(\"Data loaded locally.\")"
      ],
      "metadata": {
        "colab": {
          "base_uri": "https://localhost:8080/"
        },
        "id": "mgV-I8-p2Plb",
        "outputId": "174ed4aa-cb87-479e-d8ea-2a052372407c"
      },
      "execution_count": null,
      "outputs": [
        {
          "output_type": "stream",
          "name": "stdout",
          "text": [
            "Data loaded locally.\n"
          ]
        }
      ]
    },
    {
      "cell_type": "markdown",
      "source": [
        "How does an exemplary AB image look like?"
      ],
      "metadata": {
        "id": "MzVDgCtTWoMF"
      }
    },
    {
      "cell_type": "code",
      "source": [
        "import cv2\n",
        "import matplotlib.pyplot as plt\n",
        "\n",
        "example_image = os.path.join(\"~/dataMajTOM/train_full\", sorted(os.listdir(os.path.expanduser(\"~/dataMajTOM/train_full\")))[100])\n",
        "img_AB = cv2.imread(os.path.expanduser(example_image))\n",
        "\n",
        "plt.figure(figsize=(8, 8))\n",
        "plt.imshow(cv2.cvtColor(img_AB, cv2.COLOR_BGR2RGB))\n",
        "plt.axis('off')\n",
        "plt.show()"
      ],
      "metadata": {
        "colab": {
          "base_uri": "https://localhost:8080/",
          "height": 346
        },
        "id": "yBKLDdjES4Zt",
        "outputId": "c91c4c08-6bda-4cbc-90c0-e61e4cd7975b"
      },
      "execution_count": null,
      "outputs": [
        {
          "output_type": "display_data",
          "data": {
            "text/plain": [
              "<Figure size 800x800 with 1 Axes>"
            ],
            "image/png": "[encoded data removed]"
          },
          "metadata": {}
        }
      ]
    },
    {
      "cell_type": "markdown",
      "source": [
        "## Pix2Pix"
      ],
      "metadata": {
        "id": "TulKb3YQnIaT"
      }
    },
    {
      "cell_type": "markdown",
      "source": [
        "### Setup"
      ],
      "metadata": {
        "id": "mkHUEmDdnMMm"
      }
    },
    {
      "cell_type": "code",
      "source": [
        "!git clone https://github.com/junyanz/pytorch-CycleGAN-and-pix2pix ~/pytorch-CycleGAN-and-pix2pix\n",
        "\n",
        "network_definitions = os.path.expanduser(\"~/pytorch-CycleGAN-and-pix2pix/models/networks.py\")\n",
        "with open(network_definitions, 'r') as file:\n",
        "  lines = file.readlines()\n",
        "\n",
        "new_block = \"    elif netG == 'unet_64':\\n        net = UnetGenerator(input_nc, output_nc, 6, ngf, norm_layer=norm_layer, use_dropout=use_dropout)\\n\"\n",
        "\n",
        "for i, line in enumerate(lines):\n",
        "  if \"elif netG == 'unet_128':\" in line:\n",
        "    lines.insert(i, new_block)\n",
        "    break\n",
        "\n",
        "with open(network_definitions, 'w') as file:\n",
        "  file.writelines(lines)"
      ],
      "metadata": {
        "colab": {
          "base_uri": "https://localhost:8080/"
        },
        "id": "pWqyM3jYS4Ok",
        "outputId": "311fbb65-4ae7-4c3e-ecfb-a870f3802294"
      },
      "execution_count": null,
      "outputs": [
        {
          "output_type": "stream",
          "name": "stdout",
          "text": [
            "fatal: destination path '/root/pytorch-CycleGAN-and-pix2pix' already exists and is not an empty directory.\n"
          ]
        }
      ]
    },
    {
      "cell_type": "code",
      "source": [
        "!pip install -r ~/pytorch-CycleGAN-and-pix2pix/requirements.txt"
      ],
      "metadata": {
        "id": "7J1tpSxknzRb",
        "colab": {
          "base_uri": "https://localhost:8080/"
        },
        "outputId": "c8dc105b-1b98-4d4b-e961-9640a6a9e678"
      },
      "execution_count": null,
      "outputs": [
        {
          "output_type": "stream",
          "name": "stdout",
          "text": [
            "Requirement already satisfied: torch>=1.4.0 in /usr/local/lib/python3.10/dist-packages (from -r /root/pytorch-CycleGAN-and-pix2pix/requirements.txt (line 1)) (2.2.1+cu121)\n",
            "Requirement already satisfied: torchvision>=0.5.0 in /usr/local/lib/python3.10/dist-packages (from -r /root/pytorch-CycleGAN-and-pix2pix/requirements.txt (line 2)) (0.17.1+cu121)\n",
            "Requirement already satisfied: dominate>=2.4.0 in /usr/local/lib/python3.10/dist-packages (from -r /root/pytorch-CycleGAN-and-pix2pix/requirements.txt (line 3)) (2.9.1)\n",
            "Requirement already satisfied: visdom>=0.1.8.8 in /usr/local/lib/python3.10/dist-packages (from -r /root/pytorch-CycleGAN-and-pix2pix/requirements.txt (line 4)) (0.2.4)\n",
            "Requirement already satisfied: wandb in /usr/local/lib/python3.10/dist-packages (from -r /root/pytorch-CycleGAN-and-pix2pix/requirements.txt (line 5)) (0.17.0)\n",
            "Requirement already satisfied: filelock in /usr/local/lib/python3.10/dist-packages (from torch>=1.4.0->-r /root/pytorch-CycleGAN-and-pix2pix/requirements.txt (line 1)) (3.14.0)\n",
            "Requirement already satisfied: typing-extensions>=4.8.0 in /usr/local/lib/python3.10/dist-packages (from torch>=1.4.0->-r /root/pytorch-CycleGAN-and-pix2pix/requirements.txt (line 1)) (4.11.0)\n",
            "Requirement already satisfied: sympy in /usr/local/lib/python3.10/dist-packages (from torch>=1.4.0->-r /root/pytorch-CycleGAN-and-pix2pix/requirements.txt (line 1)) (1.12)\n",
            "Requirement already satisfied: networkx in /usr/local/lib/python3.10/dist-packages (from torch>=1.4.0->-r /root/pytorch-CycleGAN-and-pix2pix/requirements.txt (line 1)) (3.3)\n",
            "Requirement already satisfied: jinja2 in /usr/local/lib/python3.10/dist-packages (from torch>=1.4.0->-r /root/pytorch-CycleGAN-and-pix2pix/requirements.txt (line 1)) (3.1.3)\n",
            "Requirement already satisfied: fsspec in /usr/local/lib/python3.10/dist-packages (from torch>=1.4.0->-r /root/pytorch-CycleGAN-and-pix2pix/requirements.txt (line 1)) (2023.6.0)\n",
            "Requirement already satisfied: nvidia-cuda-nvrtc-cu12==12.1.105 in /usr/local/lib/python3.10/dist-packages (from torch>=1.4.0->-r /root/pytorch-CycleGAN-and-pix2pix/requirements.txt (line 1)) (12.1.105)\n",
            "Requirement already satisfied: nvidia-cuda-runtime-cu12==12.1.105 in /usr/local/lib/python3.10/dist-packages (from torch>=1.4.0->-r /root/pytorch-CycleGAN-and-pix2pix/requirements.txt (line 1)) (12.1.105)\n",
            "Requirement already satisfied: nvidia-cuda-cupti-cu12==12.1.105 in /usr/local/lib/python3.10/dist-packages (from torch>=1.4.0->-r /root/pytorch-CycleGAN-and-pix2pix/requirements.txt (line 1)) (12.1.105)\n",
            "Requirement already satisfied: nvidia-cudnn-cu12==8.9.2.26 in /usr/local/lib/python3.10/dist-packages (from torch>=1.4.0->-r /root/pytorch-CycleGAN-and-pix2pix/requirements.txt (line 1)) (8.9.2.26)\n",
            "Requirement already satisfied: nvidia-cublas-cu12==12.1.3.1 in /usr/local/lib/python3.10/dist-packages (from torch>=1.4.0->-r /root/pytorch-CycleGAN-and-pix2pix/requirements.txt (line 1)) (12.1.3.1)\n",
            "Requirement already satisfied: nvidia-cufft-cu12==11.0.2.54 in /usr/local/lib/python3.10/dist-packages (from torch>=1.4.0->-r /root/pytorch-CycleGAN-and-pix2pix/requirements.txt (line 1)) (11.0.2.54)\n",
            "Requirement already satisfied: nvidia-curand-cu12==10.3.2.106 in /usr/local/lib/python3.10/dist-packages (from torch>=1.4.0->-r /root/pytorch-CycleGAN-and-pix2pix/requirements.txt (line 1)) (10.3.2.106)\n",
            "Requirement already satisfied: nvidia-cusolver-cu12==11.4.5.107 in /usr/local/lib/python3.10/dist-packages (from torch>=1.4.0->-r /root/pytorch-CycleGAN-and-pix2pix/requirements.txt (line 1)) (11.4.5.107)\n",
            "Requirement already satisfied: nvidia-cusparse-cu12==12.1.0.106 in /usr/local/lib/python3.10/dist-packages (from torch>=1.4.0->-r /root/pytorch-CycleGAN-and-pix2pix/requirements.txt (line 1)) (12.1.0.106)\n",
            "Requirement already satisfied: nvidia-nccl-cu12==2.19.3 in /usr/local/lib/python3.10/dist-packages (from torch>=1.4.0->-r /root/pytorch-CycleGAN-and-pix2pix/requirements.txt (line 1)) (2.19.3)\n",
            "Requirement already satisfied: nvidia-nvtx-cu12==12.1.105 in /usr/local/lib/python3.10/dist-packages (from torch>=1.4.0->-r /root/pytorch-CycleGAN-and-pix2pix/requirements.txt (line 1)) (12.1.105)\n",
            "Requirement already satisfied: triton==2.2.0 in /usr/local/lib/python3.10/dist-packages (from torch>=1.4.0->-r /root/pytorch-CycleGAN-and-pix2pix/requirements.txt (line 1)) (2.2.0)\n",
            "Requirement already satisfied: nvidia-nvjitlink-cu12 in /usr/local/lib/python3.10/dist-packages (from nvidia-cusolver-cu12==11.4.5.107->torch>=1.4.0->-r /root/pytorch-CycleGAN-and-pix2pix/requirements.txt (line 1)) (12.4.127)\n",
            "Requirement already satisfied: numpy in /usr/local/lib/python3.10/dist-packages (from torchvision>=0.5.0->-r /root/pytorch-CycleGAN-and-pix2pix/requirements.txt (line 2)) (1.25.2)\n",
            "Requirement already satisfied: pillow!=8.3.*,>=5.3.0 in /usr/local/lib/python3.10/dist-packages (from torchvision>=0.5.0->-r /root/pytorch-CycleGAN-and-pix2pix/requirements.txt (line 2)) (9.4.0)\n",
            "Requirement already satisfied: scipy in /usr/local/lib/python3.10/dist-packages (from visdom>=0.1.8.8->-r /root/pytorch-CycleGAN-and-pix2pix/requirements.txt (line 4)) (1.11.4)\n",
            "Requirement already satisfied: requests in /usr/local/lib/python3.10/dist-packages (from visdom>=0.1.8.8->-r /root/pytorch-CycleGAN-and-pix2pix/requirements.txt (line 4)) (2.31.0)\n",
            "Requirement already satisfied: tornado in /usr/local/lib/python3.10/dist-packages (from visdom>=0.1.8.8->-r /root/pytorch-CycleGAN-and-pix2pix/requirements.txt (line 4)) (6.3.3)\n",
            "Requirement already satisfied: six in /usr/local/lib/python3.10/dist-packages (from visdom>=0.1.8.8->-r /root/pytorch-CycleGAN-and-pix2pix/requirements.txt (line 4)) (1.16.0)\n",
            "Requirement already satisfied: jsonpatch in /usr/local/lib/python3.10/dist-packages (from visdom>=0.1.8.8->-r /root/pytorch-CycleGAN-and-pix2pix/requirements.txt (line 4)) (1.33)\n",
            "Requirement already satisfied: websocket-client in /usr/local/lib/python3.10/dist-packages (from visdom>=0.1.8.8->-r /root/pytorch-CycleGAN-and-pix2pix/requirements.txt (line 4)) (1.8.0)\n",
            "Requirement already satisfied: click!=8.0.0,>=7.1 in /usr/local/lib/python3.10/dist-packages (from wandb->-r /root/pytorch-CycleGAN-and-pix2pix/requirements.txt (line 5)) (8.1.7)\n",
            "Requirement already satisfied: docker-pycreds>=0.4.0 in /usr/local/lib/python3.10/dist-packages (from wandb->-r /root/pytorch-CycleGAN-and-pix2pix/requirements.txt (line 5)) (0.4.0)\n",
            "Requirement already satisfied: gitpython!=3.1.29,>=1.0.0 in /usr/local/lib/python3.10/dist-packages (from wandb->-r /root/pytorch-CycleGAN-and-pix2pix/requirements.txt (line 5)) (3.1.43)\n",
            "Requirement already satisfied: platformdirs in /usr/local/lib/python3.10/dist-packages (from wandb->-r /root/pytorch-CycleGAN-and-pix2pix/requirements.txt (line 5)) (4.2.1)\n",
            "Requirement already satisfied: protobuf!=4.21.0,<5,>=3.19.0 in /usr/local/lib/python3.10/dist-packages (from wandb->-r /root/pytorch-CycleGAN-and-pix2pix/requirements.txt (line 5)) (3.20.3)\n",
            "Requirement already satisfied: psutil>=5.0.0 in /usr/local/lib/python3.10/dist-packages (from wandb->-r /root/pytorch-CycleGAN-and-pix2pix/requirements.txt (line 5)) (5.9.5)\n",
            "Requirement already satisfied: pyyaml in /usr/local/lib/python3.10/dist-packages (from wandb->-r /root/pytorch-CycleGAN-and-pix2pix/requirements.txt (line 5)) (6.0.1)\n",
            "Requirement already satisfied: sentry-sdk>=1.0.0 in /usr/local/lib/python3.10/dist-packages (from wandb->-r /root/pytorch-CycleGAN-and-pix2pix/requirements.txt (line 5)) (2.1.1)\n",
            "Requirement already satisfied: setproctitle in /usr/local/lib/python3.10/dist-packages (from wandb->-r /root/pytorch-CycleGAN-and-pix2pix/requirements.txt (line 5)) (1.3.3)\n",
            "Requirement already satisfied: setuptools in /usr/local/lib/python3.10/dist-packages (from wandb->-r /root/pytorch-CycleGAN-and-pix2pix/requirements.txt (line 5)) (67.7.2)\n",
            "Requirement already satisfied: gitdb<5,>=4.0.1 in /usr/local/lib/python3.10/dist-packages (from gitpython!=3.1.29,>=1.0.0->wandb->-r /root/pytorch-CycleGAN-and-pix2pix/requirements.txt (line 5)) (4.0.11)\n",
            "Requirement already satisfied: charset-normalizer<4,>=2 in /usr/local/lib/python3.10/dist-packages (from requests->visdom>=0.1.8.8->-r /root/pytorch-CycleGAN-and-pix2pix/requirements.txt (line 4)) (3.3.2)\n",
            "Requirement already satisfied: idna<4,>=2.5 in /usr/local/lib/python3.10/dist-packages (from requests->visdom>=0.1.8.8->-r /root/pytorch-CycleGAN-and-pix2pix/requirements.txt (line 4)) (3.7)\n",
            "Requirement already satisfied: urllib3<3,>=1.21.1 in /usr/local/lib/python3.10/dist-packages (from requests->visdom>=0.1.8.8->-r /root/pytorch-CycleGAN-and-pix2pix/requirements.txt (line 4)) (2.0.7)\n",
            "Requirement already satisfied: certifi>=2017.4.17 in /usr/local/lib/python3.10/dist-packages (from requests->visdom>=0.1.8.8->-r /root/pytorch-CycleGAN-and-pix2pix/requirements.txt (line 4)) (2024.2.2)\n",
            "Requirement already satisfied: MarkupSafe>=2.0 in /usr/local/lib/python3.10/dist-packages (from jinja2->torch>=1.4.0->-r /root/pytorch-CycleGAN-and-pix2pix/requirements.txt (line 1)) (2.1.5)\n",
            "Requirement already satisfied: jsonpointer>=1.9 in /usr/local/lib/python3.10/dist-packages (from jsonpatch->visdom>=0.1.8.8->-r /root/pytorch-CycleGAN-and-pix2pix/requirements.txt (line 4)) (2.4)\n",
            "Requirement already satisfied: mpmath>=0.19 in /usr/local/lib/python3.10/dist-packages (from sympy->torch>=1.4.0->-r /root/pytorch-CycleGAN-and-pix2pix/requirements.txt (line 1)) (1.3.0)\n",
            "Requirement already satisfied: smmap<6,>=3.0.1 in /usr/local/lib/python3.10/dist-packages (from gitdb<5,>=4.0.1->gitpython!=3.1.29,>=1.0.0->wandb->-r /root/pytorch-CycleGAN-and-pix2pix/requirements.txt (line 5)) (5.0.1)\n"
          ]
        }
      ]
    },
    {
      "cell_type": "markdown",
      "source": [
        "### Train"
      ],
      "metadata": {
        "id": "naNzdDNss_iZ"
      }
    },
    {
      "cell_type": "code",
      "source": [
        "model_name_suffix = 3\n",
        "\n",
        "model_name_suffix = \"Pix2Pix_\" + model_name_suffix\n",
        "if not os.path.exists(os.path.expanduser(f\"./models/Model_{model_name_suffix}\")):\n",
        "  os.makedirs(os.path.expanduser(f\"./models/Model_{model_name_suffix}\"))"
      ],
      "metadata": {
        "id": "iQMTJtC_eZuK"
      },
      "execution_count": null,
      "outputs": []
    },
    {
      "cell_type": "markdown",
      "source": [
        "Create a random data subset"
      ],
      "metadata": {
        "id": "eYttoHOlcDKQ"
      }
    },
    {
      "cell_type": "code",
      "source": [
        "!ls ~/dataMajTOM/train_full | shuf -n 8000 | xargs -I {} cp ~/dataMajTOM/train_full/{} ~/dataMajTOM/train"
      ],
      "metadata": {
        "id": "POtI0oiGcCqk"
      },
      "execution_count": null,
      "outputs": []
    },
    {
      "cell_type": "code",
      "source": [
        "!python ~/pytorch-CycleGAN-and-pix2pix/train.py \\\n",
        "  --netG unet_64 --netD n_layers --n_layers_D 2 \\\n",
        "  --dataroot ~/dataMajTOM --name pix2pix_MajTOM \\\n",
        "  --model pix2pix --direction AtoB \\\n",
        "  --display_id -1 \\\n",
        "  --preprocess none \\\n",
        "  --n_epochs 10 --n_epochs_decay 10 \\\n",
        "  --checkpoints_dir models/Model_{model_name_suffix}/checkpoints"
      ],
      "metadata": {
        "id": "bYydPE-ts--F"
      },
      "execution_count": null,
      "outputs": []
    },
    {
      "cell_type": "markdown",
      "source": [
        "### Test"
      ],
      "metadata": {
        "id": "YKoa4IYItx8w"
      }
    },
    {
      "cell_type": "code",
      "source": [
        "!python ~/pytorch-CycleGAN-and-pix2pix/test.py \\\n",
        "  --netG unet_64 --netD n_layers --n_layers_D 2 \\\n",
        "  --dataroot ~/dataMajTOM --name pix2pix_MajTOM \\\n",
        "  --model pix2pix --direction AtoB \\\n",
        "  --preprocess none \\\n",
        "  --num_test 5000 \\\n",
        "  --checkpoints_dir models/Model_{model_name_suffix}/checkpoints \\\n",
        "  --results_dir ~/results/"
      ],
      "metadata": {
        "id": "OjdUch7kt0SY"
      },
      "execution_count": null,
      "outputs": []
    },
    {
      "cell_type": "code",
      "source": [
        "!zip -r ~/results.zip ~/results\n",
        "!mv ~/results.zip ./models/Model_{model_name_suffix}/"
      ],
      "metadata": {
        "id": "yVy-wo-oelUO"
      },
      "execution_count": null,
      "outputs": []
    },
    {
      "cell_type": "markdown",
      "source": [
        "Visualize an example:"
      ],
      "metadata": {
        "id": "QF5cAF6BuSJS"
      }
    },
    {
      "cell_type": "code",
      "source": [
        "img_num = 599\n",
        "example_image = os.path.join(\"~/results/pix2pix_MajTOM/test_latest/images/\", sorted(os.listdir(os.path.expanduser(\"~/results/pix2pix_MajTOM/test_latest/images/\")))[img_num])"
      ],
      "metadata": {
        "id": "yZc3qYNY-xw7"
      },
      "execution_count": null,
      "outputs": []
    },
    {
      "cell_type": "code",
      "source": [
        "img_path = example_image[:-10] + \"real_A.png\"\n",
        "img = plt.imread(os.path.expanduser(img_path))\n",
        "plt.imshow(img)"
      ],
      "metadata": {
        "colab": {
          "base_uri": "https://localhost:8080/",
          "height": 449
        },
        "id": "MoEa-0zOuXyE",
        "outputId": "466e6c6f-f091-4d47-d9e9-a25503d172ae"
      },
      "execution_count": null,
      "outputs": [
        {
          "output_type": "execute_result",
          "data": {
            "text/plain": [
              "<matplotlib.image.AxesImage at 0x7c736bf1e260>"
            ]
          },
          "metadata": {},
          "execution_count": 65
        },
        {
          "output_type": "display_data",
          "data": {
            "text/plain": [
              "<Figure size 640x480 with 1 Axes>"
            ],
            "image/png": "[encoded data removed]"
          },
          "metadata": {}
        }
      ]
    },
    {
      "cell_type": "code",
      "source": [
        "img_path = example_image[:-10] + \"real_B.png\"\n",
        "img = plt.imread(os.path.expanduser(img_path))\n",
        "plt.imshow(img)"
      ],
      "metadata": {
        "colab": {
          "base_uri": "https://localhost:8080/",
          "height": 449
        },
        "id": "28PA-MppuWr1",
        "outputId": "4269bbcd-4627-482e-c1ae-86191a40322e"
      },
      "execution_count": null,
      "outputs": [
        {
          "output_type": "execute_result",
          "data": {
            "text/plain": [
              "<matplotlib.image.AxesImage at 0x7c736af3d600>"
            ]
          },
          "metadata": {},
          "execution_count": 66
        },
        {
          "output_type": "display_data",
          "data": {
            "text/plain": [
              "<Figure size 640x480 with 1 Axes>"
            ],
            "image/png": "[encoded data removed]"
          },
          "metadata": {}
        }
      ]
    },
    {
      "cell_type": "code",
      "source": [
        "img_path = example_image[:-10] + \"fake_B.png\"\n",
        "img = plt.imread(os.path.expanduser(img_path))\n",
        "plt.imshow(img)"
      ],
      "metadata": {
        "colab": {
          "base_uri": "https://localhost:8080/",
          "height": 449
        },
        "id": "RxcWeM5Ht0Kb",
        "outputId": "400833b2-aa6d-43f2-a32d-6a72a7f3f7ff"
      },
      "execution_count": null,
      "outputs": [
        {
          "output_type": "execute_result",
          "data": {
            "text/plain": [
              "<matplotlib.image.AxesImage at 0x7c736aff4220>"
            ]
          },
          "metadata": {},
          "execution_count": 67
        },
        {
          "output_type": "display_data",
          "data": {
            "text/plain": [
              "<Figure size 640x480 with 1 Axes>"
            ],
            "image/png": "[encoded data removed]"
          },
          "metadata": {}
        }
      ]
    },
    {
      "cell_type": "markdown",
      "source": [
        "### Transform our Training Images"
      ],
      "metadata": {
        "id": "a7o1-W2oFFvn"
      }
    },
    {
      "cell_type": "code",
      "source": [
        "!python ~/pytorch-CycleGAN-and-pix2pix/test.py \\\n",
        "  --netG unet_64 --netD n_layers --n_layers_D 2 \\\n",
        "  --dataroot ~/dataAB/train_transformed --name pix2pix_MajTOM \\\n",
        "  --model pix2pix --direction AtoB \\\n",
        "  --preprocess none \\\n",
        "  --num_test {len(os.listdir(os.path.expanduser(\"~/dataAB/train_transformed/test\")))} \\\n",
        "  --checkpoints_dir models/Model_{model_name_suffix}/checkpoints \\\n",
        "  --results_dir ~/train_rft/"
      ],
      "metadata": {
        "id": "gBEb3YBfvj3O"
      },
      "execution_count": null,
      "outputs": []
    },
    {
      "cell_type": "code",
      "source": [
        "!zip -r ~/train_rft.zip ~/train_rft\n",
        "!mv ~/train_rft.zip ./models/Model_{model_name_suffix}/"
      ],
      "metadata": {
        "id": "qmYOYiHZesTV"
      },
      "execution_count": null,
      "outputs": []
    },
    {
      "cell_type": "markdown",
      "source": [
        "Visualize an example:"
      ],
      "metadata": {
        "id": "SmcdsVP6es2w"
      }
    },
    {
      "cell_type": "code",
      "source": [
        "img_num = 599\n",
        "example_image = os.path.join(\"~/train_rft/pix2pix_MajTOM/test_latest/images/\", sorted(os.listdir(os.path.expanduser(\"~/train_rft/pix2pix_MajTOM/test_latest/images/\")))[img_num])"
      ],
      "metadata": {
        "id": "MdRhecDvvjvQ"
      },
      "execution_count": null,
      "outputs": []
    },
    {
      "cell_type": "code",
      "source": [
        "img_path = example_image[:-10] + \"real_A.png\"\n",
        "img = plt.imread(os.path.expanduser(img_path))\n",
        "plt.imshow(img)"
      ],
      "metadata": {
        "id": "LtNuVsyOGIWg",
        "outputId": "c9777879-65fd-462b-dcaf-f3707ddda32c",
        "colab": {
          "base_uri": "https://localhost:8080/",
          "height": 449
        }
      },
      "execution_count": null,
      "outputs": [
        {
          "output_type": "execute_result",
          "data": {
            "text/plain": [
              "<matplotlib.image.AxesImage at 0x7c7369727df0>"
            ]
          },
          "metadata": {},
          "execution_count": 70
        },
        {
          "output_type": "display_data",
          "data": {
            "text/plain": [
              "<Figure size 640x480 with 1 Axes>"
            ],
            "image/png": "[encoded data removed]"
          },
          "metadata": {}
        }
      ]
    },
    {
      "cell_type": "code",
      "source": [
        "img_path = example_image[:-10] + \"fake_B.png\"\n",
        "img = plt.imread(os.path.expanduser(img_path))\n",
        "plt.imshow(img)"
      ],
      "metadata": {
        "id": "GIkXaC2gGIOw",
        "outputId": "908f6998-96b8-4fe2-e90c-f6aa70690142",
        "colab": {
          "base_uri": "https://localhost:8080/",
          "height": 449
        }
      },
      "execution_count": null,
      "outputs": [
        {
          "output_type": "execute_result",
          "data": {
            "text/plain": [
              "<matplotlib.image.AxesImage at 0x7c736bcec430>"
            ]
          },
          "metadata": {},
          "execution_count": 72
        },
        {
          "output_type": "display_data",
          "data": {
            "text/plain": [
              "<Figure size 640x480 with 1 Axes>"
            ],
            "image/png": "[encoded data removed]"
          },
          "metadata": {}
        }
      ]
    },
    {
      "cell_type": "markdown",
      "source": [
        "## TRAIN"
      ],
      "metadata": {
        "id": "OrOs7zDaQZ4B"
      }
    },
    {
      "cell_type": "markdown",
      "source": [
        "### Import packages and set random seeds."
      ],
      "metadata": {
        "id": "b2MDZwK8Q6YL"
      }
    },
    {
      "cell_type": "code",
      "source": [
        "seed_value = 42\n",
        "os.environ['PYTHONHASHSEED'] = str(seed_value)\n",
        "os.environ['CUBLAS_WORKSPACE_CONFIG'] = ':4096:8'\n",
        "\n",
        "import random\n",
        "import numpy as np\n",
        "import torch\n",
        "import pandas as pd\n",
        "\n",
        "random.seed(seed_value)\n",
        "np.random.seed(seed_value)\n",
        "torch.manual_seed(seed_value)\n",
        "\n",
        "torch.cuda.manual_seed(seed_value)\n",
        "torch.cuda.manual_seed_all(seed_value)  # For multi-GPU setups\n",
        "torch.backends.cudnn.deterministic = True\n",
        "torch.backends.cudnn.benchmark = False\n",
        "\n",
        "device = torch.device(\"cuda\") if torch.cuda.is_available() else torch.device(\"cpu\")\n",
        "print(f'Using {device} for inference')"
      ],
      "metadata": {
        "id": "Sgdbt6KyQyVh",
        "colab": {
          "base_uri": "https://localhost:8080/"
        },
        "outputId": "c784020b-c8f9-4416-da1b-b4be050743e7"
      },
      "execution_count": 6,
      "outputs": [
        {
          "output_type": "stream",
          "name": "stdout",
          "text": [
            "Using cuda for inference\n"
          ]
        }
      ]
    },
    {
      "cell_type": "markdown",
      "source": [
        "### Get training data"
      ],
      "metadata": {
        "id": "OlTDyK0KRCh_"
      }
    },
    {
      "cell_type": "code",
      "source": [
        "model_if_not_trained = 2"
      ],
      "metadata": {
        "id": "vNpe9nTuc9fD"
      },
      "execution_count": 7,
      "outputs": []
    },
    {
      "cell_type": "code",
      "source": [
        "from sklearn.model_selection import train_test_split\n",
        "\n",
        "if os.path.exists(os.path.expanduser(\"~/train_rft/pix2pix_MajTOM/test_latest/images/\")):\n",
        "  img_path = os.path.expanduser(\"~/train_rft/pix2pix_MajTOM/test_latest/images/\")\n",
        "elif os.path.exists(os.path.expanduser(\"~/train_rft/root/train_rft/pix2pix_MajTOM/test_latest/images/\")):\n",
        "  img_path = os.path.expanduser(\"~/train_rft/root/train_rft/pix2pix_MajTOM/test_latest/images/\")\n",
        "else:\n",
        "  !cp models/Pix2Pix_Model_{model_if_not_trained}/train_rft.zip ~/train_rft.zip\n",
        "  !unzip -q ~/train_rft.zip -d ~/train_rft\n",
        "  !rm -rf ~/train_rft.zip\n",
        "  img_path = os.path.expanduser(\"~/train_rft/root/train_rft/pix2pix_MajTOM/test_latest/images/\")\n",
        "\n",
        "df = pd.DataFrame(os.listdir(img_path))\n",
        "df = df[df[0].str.contains(\"fake_B\")]\n",
        "\n",
        "df[\"label\"] = df[0].apply(lambda x: x.split(\"_\")[0])\n",
        "df[\"full_path\"] = df[0].apply(lambda x: os.path.join(img_path, x))\n",
        "\n",
        "X = df[\"full_path\"]\n",
        "y = df[\"label\"]\n",
        "\n",
        "X_train, X_test, y_train, y_test = train_test_split(X, y, test_size=0.2, stratify=y, random_state=seed_value)\n",
        "X_train = X_train.reset_index(drop=True)\n",
        "X_test = X_test.reset_index(drop=True)\n",
        "y_train = y_train.reset_index(drop=True)\n",
        "y_test = y_test.reset_index(drop=True)"
      ],
      "metadata": {
        "id": "VMp4buyGHvhT"
      },
      "execution_count": 8,
      "outputs": []
    },
    {
      "cell_type": "code",
      "source": [
        "from torch.utils.data import Dataset, DataLoader\n",
        "from torchvision import transforms\n",
        "\n",
        "class EuroSATDataset(Dataset):\n",
        "    def __init__(self, data_paths, labels, transform=None, mode=\"train\"):\n",
        "        self.data_paths = data_paths\n",
        "        self.labels = labels.apply(lambda x: class_to_idx[x]) if mode == \"train\" else labels\n",
        "        self.transform = transform\n",
        "        self.mode = mode\n",
        "\n",
        "    def __len__(self):\n",
        "        return len(self.data_paths)\n",
        "\n",
        "    def __getitem__(self, idx):\n",
        "        img_path = self.data_paths[idx]\n",
        "\n",
        "        if self.mode == \"train\":\n",
        "          image = cv2.imread(img_path)\n",
        "          # image = cv2.cvtColor(image, cv2.COLOR_BGR2RGB).astype(np.float32)\n",
        "        else:\n",
        "          img = np.load(img_path)\n",
        "          bands = img[:, :, [1, 2, 3]]\n",
        "          image = np.interp(bands, (0, 2750), (0, 255)).astype(np.uint8)\n",
        "\n",
        "        if self.transform:\n",
        "            image = self.transform(image)\n",
        "\n",
        "        if self.mode == \"train\":\n",
        "            label = self.labels[idx]\n",
        "            return image, label\n",
        "        else:\n",
        "            id = int(img_path.split(\"_\")[-1].split(\".\")[0])\n",
        "            return image, id\n",
        "\n",
        "# Define any transformations you want to apply to each image here\n",
        "\"\"\"\n",
        "Converts a  numpy.ndarray (H x W x C) to a torch.FloatTensor of shape (C x H x W)\n",
        "  * if the numpy.ndarray has dtype = np.uint8 (OUR CASE) --> scaled to range [0.0, 1.0]\n",
        "  * in other cases, tensors are returned without scaling.\n",
        "\"\"\"\n",
        "transform_train = transforms.Compose([\n",
        "    transforms.ToTensor(),\n",
        "    transforms.RandomHorizontalFlip(),\n",
        "    transforms.RandomVerticalFlip(),\n",
        "    # transforms.RandomRotation(15),\n",
        "    # transforms.ColorJitter(brightness=0.2, contrast=0.2, saturation=0.2, hue=0.1)\n",
        "])\n",
        "transform_val = transforms.Compose([\n",
        "    transforms.ToTensor()\n",
        "])\n",
        "transform_test = transforms.Compose([\n",
        "    transforms.ToTensor()\n",
        "])\n",
        "\n",
        "# All classes\n",
        "all_class_names = ['HerbaceousVegetation', 'Highway', 'Forest', 'SeaLake', 'PermanentCrop', 'River', 'Pasture', 'Industrial', 'AnnualCrop', 'Residential']\n",
        "class_to_idx = {class_name: idx for idx, class_name in enumerate(all_class_names)}\n",
        "\n",
        "# Create datasets & loaders\n",
        "train_dataset = EuroSATDataset(X_train, y_train, transform=transform_train, mode=\"train\")\n",
        "test_dataset = EuroSATDataset(X_test, y_test, transform=transform_val, mode=\"train\")\n",
        "train_loader = DataLoader(train_dataset, batch_size=32, shuffle=True, num_workers=4)\n",
        "test_loader = DataLoader(test_dataset, batch_size=32, shuffle=False, num_workers=4)"
      ],
      "metadata": {
        "id": "-BRfLpW1CANr"
      },
      "execution_count": 10,
      "outputs": []
    },
    {
      "cell_type": "markdown",
      "source": [
        "### Train model"
      ],
      "metadata": {
        "id": "Bea4Z0FURKrL"
      }
    },
    {
      "cell_type": "code",
      "source": [
        "resnet_name_suffix = \"2C\""
      ],
      "metadata": {
        "id": "cZw_4Av-e1zX"
      },
      "execution_count": 11,
      "outputs": []
    },
    {
      "cell_type": "code",
      "source": [
        "from torchvision import models\n",
        "from torchvision.models import ResNet152_Weights\n",
        "import cv2\n",
        "\n",
        "model = models.resnet152(weights=ResNet152_Weights.DEFAULT)\n",
        "model.conv1 = torch.nn.Conv2d(3, 64, kernel_size=7, stride=2, padding=3, bias=False)\n",
        "model.fc = torch.nn.Linear(model.fc.in_features, 10)\n",
        "model.to(device)\n",
        "criterion = torch.nn.CrossEntropyLoss()\n",
        "optimizer = torch.optim.SGD(model.parameters(), lr=0.001, momentum=0.9)"
      ],
      "metadata": {
        "id": "b-cCR_K_u1Kk",
        "colab": {
          "base_uri": "https://localhost:8080/"
        },
        "outputId": "bf5a8467-7520-4810-b0bc-78aee2fb9811"
      },
      "execution_count": 12,
      "outputs": [
        {
          "output_type": "stream",
          "name": "stderr",
          "text": [
            "Downloading: \"https://download.pytorch.org/models/resnet152-f82ba261.pth\" to /root/.cache/torch/hub/checkpoints/resnet152-f82ba261.pth\n",
            "100%|██████████| 230M/230M [00:02<00:00, 90.4MB/s]\n"
          ]
        }
      ]
    },
    {
      "cell_type": "code",
      "source": [
        "# Checkpointing and Early Stopping setup\n",
        "num_epochs = 10\n",
        "best_test_loss = float('inf')\n",
        "patience_counter = 0\n",
        "patience = 10  # How many epochs to wait after last time validation loss improved.\n",
        "file_path = f\"./models/resnet152_{resnet_name_suffix}.pt\"\n",
        "\n",
        "for epoch in range(num_epochs):\n",
        "    # train\n",
        "    model.train()\n",
        "    train_losses = []\n",
        "    for inputs, targets in train_loader:\n",
        "        inputs, targets = inputs.to(device), targets.to(device)\n",
        "        outputs = model(inputs)\n",
        "        optimizer.zero_grad() # same as model.zero_grad if all params in optimizer\n",
        "        loss = criterion(outputs, targets)\n",
        "        loss.backward()\n",
        "        optimizer.step()\n",
        "        train_losses.append(loss.item())\n",
        "    train_loss = np.mean(train_losses)\n",
        "\n",
        "    # validate\n",
        "    model.eval()\n",
        "    test_losses = []\n",
        "    total_correct = 0\n",
        "    with torch.no_grad():\n",
        "        for inputs, targets in test_loader:\n",
        "            inputs, targets = inputs.to(device), targets.to(device)\n",
        "            outputs = model(inputs)\n",
        "            loss = criterion(outputs, targets)\n",
        "            test_losses.append(loss.item())\n",
        "            _, predicted = torch.max(outputs, 1)\n",
        "            total_correct += (predicted == targets).sum().item()\n",
        "    test_loss = np.mean(test_losses)\n",
        "    test_accuracy = total_correct / len(test_dataset)\n",
        "\n",
        "    print(f\"Epoch {epoch+1}/{num_epochs}, Train Loss: {train_loss:.4f}, Test Loss: {test_loss:.4f}, Test Accuracy: {test_accuracy:.4f}\")\n",
        "\n",
        "    # checkpoint --> WHAT SHOULD I USE FOR CHECKPOINT? WHAT FOR EARLY STOP? TEST ACCURACY OR LOSS!\n",
        "    if test_loss < best_test_loss:\n",
        "        best_test_loss = test_loss\n",
        "        torch.save(model.state_dict(), file_path)\n",
        "        patience_counter = 0  # Reset counter if test loss improves\n",
        "        print(f\"Test loss improved to {test_loss:.4f}. Model saved.\")\n",
        "    else:\n",
        "        patience_counter += 1\n",
        "        print(f\"Test loss did not improve. Patience counter: {patience_counter}\")\n",
        "\n",
        "    # early stopping\n",
        "    if patience_counter >= patience:\n",
        "        print(\"Early stopping triggered.\")\n",
        "        break"
      ],
      "metadata": {
        "id": "W6UwAag5jpxO",
        "colab": {
          "base_uri": "https://localhost:8080/"
        },
        "outputId": "f294ccd7-d2e4-4b2a-d798-ad084de422bb"
      },
      "execution_count": 13,
      "outputs": [
        {
          "metadata": {
            "tags": null
          },
          "name": "stderr",
          "output_type": "stream",
          "text": [
            "/usr/lib/python3.10/multiprocessing/popen_fork.py:66: RuntimeWarning: os.fork() was called. os.fork() is incompatible with multithreaded code, and JAX is multithreaded, so this will likely lead to a deadlock.\n",
            "  self.pid = os.fork()\n"
          ]
        },
        {
          "metadata": {
            "tags": null
          },
          "name": "stdout",
          "output_type": "stream",
          "text": [
            "Epoch 1/10, Train Loss: 1.0314, Test Loss: 0.6100, Test Accuracy: 0.7919\n",
            "Test loss improved to 0.6100. Model saved.\n",
            "Epoch 2/10, Train Loss: 0.5841, Test Loss: 0.5159, Test Accuracy: 0.8156\n",
            "Test loss improved to 0.5159. Model saved.\n",
            "Epoch 3/10, Train Loss: 0.4487, Test Loss: 0.4292, Test Accuracy: 0.8591\n",
            "Test loss improved to 0.4292. Model saved.\n",
            "Epoch 4/10, Train Loss: 0.3599, Test Loss: 0.4471, Test Accuracy: 0.8487\n",
            "Test loss did not improve. Patience counter: 1\n",
            "Epoch 5/10, Train Loss: 0.3071, Test Loss: 0.3084, Test Accuracy: 0.8944\n",
            "Test loss improved to 0.3084. Model saved.\n",
            "Epoch 6/10, Train Loss: 0.2598, Test Loss: 0.2427, Test Accuracy: 0.9150\n",
            "Test loss improved to 0.2427. Model saved.\n",
            "Epoch 7/10, Train Loss: 0.2285, Test Loss: 0.2239, Test Accuracy: 0.9202\n",
            "Test loss improved to 0.2239. Model saved.\n",
            "Epoch 8/10, Train Loss: 0.2013, Test Loss: 0.1992, Test Accuracy: 0.9306\n",
            "Test loss improved to 0.1992. Model saved.\n",
            "Epoch 9/10, Train Loss: 0.1898, Test Loss: 0.1914, Test Accuracy: 0.9326\n",
            "Test loss improved to 0.1914. Model saved.\n",
            "Epoch 10/10, Train Loss: 0.1701, Test Loss: 0.2051, Test Accuracy: 0.9285\n",
            "Test loss did not improve. Patience counter: 1\n"
          ]
        }
      ]
    },
    {
      "cell_type": "markdown",
      "source": [
        "## TEST"
      ],
      "metadata": {
        "id": "kSCJqSmCD78C"
      }
    },
    {
      "cell_type": "code",
      "source": [
        "prediction_dir = os.path.expanduser(\"~/testset/testset\")\n",
        "\n",
        "pred_paths = [(int(x.split(\"_\")[-1].split(\".\")[0]), x) for x in os.listdir(prediction_dir)]\n",
        "df = pd.DataFrame(pred_paths, columns=[\"i\", \"path\"])\n",
        "df_sorted = df.sort_values(by=\"i\")\n",
        "prediction_paths = df_sorted[\"path\"]\n",
        "prediction_paths = prediction_paths.apply(lambda x: os.path.join(prediction_dir, x)).reset_index(drop=True)\n",
        "\n",
        "prediction_dataset = EuroSATDataset(prediction_paths, None, transform=transform_test, mode=\"predict\")\n",
        "prediction_loader = DataLoader(prediction_dataset, batch_size=32, shuffle=False, num_workers=4)"
      ],
      "metadata": {
        "id": "SdwW3iWKyBR1"
      },
      "execution_count": 16,
      "outputs": []
    },
    {
      "cell_type": "code",
      "source": [
        "predictions = []\n",
        "image_ids = []\n",
        "# Load the best saved model's weights\n",
        "model.load_state_dict(torch.load(file_path))\n",
        "model.eval()\n",
        "with torch.no_grad():\n",
        "    for inputs, ids in prediction_loader:\n",
        "        inputs, ids = inputs.to(device), ids.to(device)\n",
        "        outputs = model(inputs)\n",
        "        _, predicted = torch.max(outputs, 1)\n",
        "        predicted_classes = [all_class_names[idx] for idx in predicted.cpu().numpy()]\n",
        "        predictions.extend(predicted_classes)\n",
        "        image_ids.extend(ids.cpu().tolist())\n",
        "\n",
        "prediction_results = list(zip(image_ids, predictions))\n",
        "df = pd.DataFrame(prediction_results, columns=[\"test_id\", \"label\"])\n",
        "df_sorted = df.sort_values(by=\"test_id\")\n",
        "df_sorted.to_csv(f\"model_{resnet_name_suffix}.csv\", index=False)"
      ],
      "metadata": {
        "id": "nMqRE3mVERQh",
        "colab": {
          "base_uri": "https://localhost:8080/"
        },
        "outputId": "ac6534c9-afc1-4abc-f50a-a392608224bf"
      },
      "execution_count": 17,
      "outputs": [
        {
          "output_type": "stream",
          "name": "stderr",
          "text": [
            "/usr/lib/python3.10/multiprocessing/popen_fork.py:66: RuntimeWarning: os.fork() was called. os.fork() is incompatible with multithreaded code, and JAX is multithreaded, so this will likely lead to a deadlock.\n",
            "  self.pid = os.fork()\n"
          ]
        }
      ]
    },
    {
      "cell_type": "code",
      "source": [],
      "metadata": {
        "id": "xJWysDW2RrgR"
      },
      "execution_count": null,
      "outputs": []
    }
  ],
  "metadata": {
    "colab": {
      "provenance": [],
      "collapsed_sections": [
        "NbT-79lSmUyS",
        "1_Ns2FMUe-au",
        "WyKgCplnDTD3",
        "qmJwcl8vDafB",
        "Gq52EdMqrj20"
      ],
      "machine_shape": "hm",
      "gpuType": "T4",
      "include_colab_link": true
    },
    "kernelspec": {
      "display_name": "Python 3",
      "name": "python3"
    },
    "accelerator": "GPU"
  },
  "nbformat": 4,
  "nbformat_minor": 0
}